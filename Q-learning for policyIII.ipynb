{
 "cells": [
  {
   "cell_type": "markdown",
   "metadata": {},
   "source": [
    "Q-learning for policyIII"
   ]
  },
  {
   "cell_type": "code",
   "execution_count": 1,
   "metadata": {},
   "outputs": [],
   "source": [
    "import numpy as np\n",
    "import random\n",
    "from random import sample\n",
    "import math \n",
    "import matplotlib.pyplot as plt"
   ]
  },
  {
   "cell_type": "code",
   "execution_count": 2,
   "metadata": {},
   "outputs": [],
   "source": [
    "def reset1():\n",
    "    st= [0]*17\n",
    "    return tuple(st)"
   ]
  },
  {
   "cell_type": "code",
   "execution_count": 3,
   "metadata": {},
   "outputs": [],
   "source": [
    "weibull_scale=(2365.08,996.88,713.55,1406.84,343.76,3933.12,828.19,2040.95)\n",
    "weibull_shape=(414.16,109.25,79.81,115.21,169.81,143.60,43.83,296.48)\n",
    "tf=(2,6.5,2.5,6,5,3.5,3,3.5)\n",
    "tp=(0.4,5.42,0.625,0.857,1.25,0.7,0.429,0.875)\n",
    "time_interval=5\n",
    "running_time=100000"
   ]
  },
  {
   "cell_type": "code",
   "execution_count": 4,
   "metadata": {},
   "outputs": [
    {
     "data": {
      "text/plain": [
       "10.556"
      ]
     },
     "execution_count": 4,
     "metadata": {},
     "output_type": "execute_result"
    }
   ],
   "source": [
    "sum(tp)"
   ]
  },
  {
   "cell_type": "markdown",
   "metadata": {},
   "source": [
    "optimal replacement time for tire"
   ]
  },
  {
   "cell_type": "code",
   "execution_count": 5,
   "metadata": {},
   "outputs": [],
   "source": [
    "def step0(action,st,i,step): \n",
    "    f = random.weibullvariate(weibull_scale[i],weibull_shape[i])\n",
    "    if step!=2500 :\n",
    "        \n",
    "        st[8]=0 #no scheduled overhaul\n",
    "        if action == 0 :\n",
    "            st[i] +=5 #age \n",
    "        \n",
    "            if f <= st[i]:\n",
    "                st[i+9]=1    \n",
    "            else:\n",
    "                st[i+9]=0 \n",
    "        \n",
    "        if action ==1 :\n",
    "            st[i]=0\n",
    "            st[i+9]=0\n",
    "            \n",
    "    else:\n",
    "        for j in range(17):\n",
    "            st[j] = 0\n",
    "        st[8]=1 #scheduled overhaul   \n",
    "    return tuple(st)\n",
    "                                "
   ]
  },
  {
   "cell_type": "code",
   "execution_count": 6,
   "metadata": {},
   "outputs": [
    {
     "data": {
      "text/plain": [
       "(0, 0, 0, 0, 0, 0, 0, 0, 1, 0, 0, 0, 0, 0, 0, 0, 0)"
      ]
     },
     "execution_count": 6,
     "metadata": {},
     "output_type": "execute_result"
    }
   ],
   "source": [
    "step0(0,list((500,5,2,5,8,41,2,8,85,42,1,25,14,35,12,24,0)),0,2500)"
   ]
  },
  {
   "cell_type": "code",
   "execution_count": 7,
   "metadata": {},
   "outputs": [],
   "source": [
    "def rewardfun0(action,st,i) :\n",
    "    reward =[]\n",
    "\n",
    "    if (action ==1 and st[8]==0) :\n",
    "        reward= -(time_interval / tp[i])*tp[i] \n",
    "        \n",
    "    if (st[i+9]==1 and action == 0 and st[8] == 0 ):\n",
    "        reward= -(time_interval / tp[i])*time_interval * math.ceil(tf[i]/time_interval)\n",
    "    \n",
    "    if (st[8] == 1):\n",
    "        reward= -(time_interval / tp[i])*time_interval * math.ceil(0.8 *sum(tp)/time_interval) \n",
    "             \n",
    "    if (st[i+9]==0 and action == 0 and st[8] == 0 ):\n",
    "        reward = 5\n",
    "    return reward\n",
    "    "
   ]
  },
  {
   "cell_type": "code",
   "execution_count": 8,
   "metadata": {},
   "outputs": [
    {
     "data": {
      "text/plain": [
       "-5.0"
      ]
     },
     "execution_count": 8,
     "metadata": {},
     "output_type": "execute_result"
    }
   ],
   "source": [
    "rewardfun0(1,list((500,5,2,5,8,41,2,8,0,1,1,25,14,35,12,24,0)),0)"
   ]
  },
  {
   "cell_type": "code",
   "execution_count": 9,
   "metadata": {},
   "outputs": [
    {
     "data": {
      "text/plain": [
       "(5, 2)"
      ]
     },
     "execution_count": 9,
     "metadata": {},
     "output_type": "execute_result"
    }
   ],
   "source": [
    "sd= (500,5,2,5,8,41,2,8,0,1,1,25,14,35,12,24,0)\n",
    "se=(sd[1],sd[2])\n",
    "se"
   ]
  },
  {
   "cell_type": "code",
   "execution_count": 10,
   "metadata": {},
   "outputs": [],
   "source": [
    "num_episodes=1000\n",
    "min_lr=0.1 \n",
    "min_epsilon=0.1\n",
    "discount=0.9\n",
    "decay=25"
   ]
  },
  {
   "cell_type": "code",
   "execution_count": 11,
   "metadata": {},
   "outputs": [],
   "source": [
    "def choose_action(epsilon, state,i):\n",
    "    if (state[i+9]==1):\n",
    "        return 1\n",
    "    else:\n",
    "        if (np.random.random() < epsilon):\n",
    "            return random.choice([0,1]) \n",
    "        else:\n",
    "            st=(state[i],state[i+9])\n",
    "            return np.argmax(Q_table[st])\n",
    "            "
   ]
  },
  {
   "cell_type": "code",
   "execution_count": 12,
   "metadata": {},
   "outputs": [],
   "source": [
    "def get_learning_rate( t):\n",
    "    \n",
    "    \"\"\"Gets value for learning rate. It declines as we advance in episodes.\"\"\"\n",
    "    # Learning rate also declines as we add more episodes\n",
    "    return max(min_lr, min(1., 1. - math.log10((t + 1) / decay)))\n"
   ]
  },
  {
   "cell_type": "markdown",
   "metadata": {},
   "source": [
    "Tire"
   ]
  },
  {
   "cell_type": "code",
   "execution_count": 21,
   "metadata": {},
   "outputs": [],
   "source": [
    "Q_table = np.zeros((100000 ,2) + (2,))\n",
    "scores = []\n",
    "i=0\n",
    "# Looping for each episode\n",
    "for e in range(1000):\n",
    "    # Initializes the state\n",
    "    current_state = reset1()\n",
    "    rewards = []\n",
    "    learning_rate = get_learning_rate(e)\n",
    "    epsilon = 1/(e +1)\n",
    "            \n",
    "    step = 0        \n",
    "    # Looping for each step\n",
    "    for j in range(running_time//time_interval):\n",
    "        # Choose A from S\n",
    "        action = choose_action(epsilon,current_state , i)\n",
    "        # Take action\n",
    "        obs = step0(action , list(current_state),i,step)\n",
    "        reward = rewardfun0(action,current_state,i)\n",
    "        rewards.append(reward)\n",
    "        new_state = obs\n",
    "        \n",
    "        current_statei = (current_state[i],current_state[i+9])\n",
    "        new_statei = (new_state[i],new_state[i+9])\n",
    "        # Update Q(S,A)\n",
    "        Q_table[current_statei][action] += (learning_rate * \n",
    "                                        (reward \n",
    "                                         + discount * np.max(Q_table[new_statei]) \n",
    "                                         - Q_table[current_statei][action]))\n",
    "        current_state = new_state\n",
    "        step +=5 \n",
    "    \n",
    "    scores.append(sum(rewards))\n"
   ]
  },
  {
   "cell_type": "code",
   "execution_count": 22,
   "metadata": {},
   "outputs": [
    {
     "data": {
      "image/png": "[encoded data removed]",
      "text/plain": [
       "<Figure size 432x288 with 1 Axes>"
      ]
     },
     "metadata": {
      "needs_background": "light"
     },
     "output_type": "display_data"
    }
   ],
   "source": [
    "# Plot the policy performance\n",
    "fig = plt.figure()\n",
    "ax = fig.add_subplot(111)\n",
    "x = np.arange(1, len(scores) + 1)\n",
    "y = scores\n",
    "plt.scatter(x, y, marker='x', c=y)\n",
    "fit = np.polyfit(x, y, deg=4)\n",
    "p = np.poly1d(fit) \n",
    "plt.plot(x,p(x),\"r--\") \n",
    "plt.ylabel('Score')\n",
    "plt.xlabel('Episode #')\n",
    "plt.title(' performance ')\n",
    "plt.show()\n",
    "     "
   ]
  },
  {
   "cell_type": "code",
   "execution_count": 23,
   "metadata": {},
   "outputs": [
    {
     "data": {
      "text/plain": [
       "920"
      ]
     },
     "execution_count": 23,
     "metadata": {},
     "output_type": "execute_result"
    }
   ],
   "source": [
    "optimal =[]\n",
    "current_state = reset1()\n",
    "step = 0\n",
    "i=0\n",
    "\n",
    "for j in range(running_time//time_interval):\n",
    "    # Choose A from S\n",
    "    action = np.argmax(Q_table[(current_state[i],current_state[i+9])])\n",
    "    if action==1:\n",
    "        optimal.append(current_state[i])\n",
    "    # Take action\n",
    "    obs = step0(action , list(current_state),i,step)\n",
    "    reward = rewardfun0(action,current_state,i)\n",
    "    current_state = obs\n",
    "    step +=5\n",
    "np.unique(optimal)[0]"
   ]
  },
  {
   "cell_type": "markdown",
   "metadata": {},
   "source": [
    "transmission"
   ]
  },
  {
   "cell_type": "code",
   "execution_count": 24,
   "metadata": {},
   "outputs": [],
   "source": [
    "Q_table = np.zeros((100000 ,2) + (2,))\n",
    "scores = []\n",
    "i=1\n",
    "# Looping for each episode\n",
    "for e in range(1000):\n",
    "    # Initializes the state\n",
    "    current_state = reset1()\n",
    "    rewards = []\n",
    "    learning_rate = get_learning_rate(e)\n",
    "    epsilon = 1/(e +1)\n",
    "            \n",
    "    step = 0        \n",
    "    # Looping for each step\n",
    "    for j in range(running_time//time_interval):\n",
    "        # Choose A from S\n",
    "        action = choose_action(epsilon,current_state , i)\n",
    "        # Take action\n",
    "        obs = step0(action , list(current_state),i,step)\n",
    "        reward = rewardfun0(action,current_state,i)\n",
    "        rewards.append(reward)\n",
    "        new_state = obs\n",
    "        \n",
    "        current_statei = (current_state[i],current_state[i+9])\n",
    "        new_statei = (new_state[i],new_state[i+9])\n",
    "        # Update Q(S,A)\n",
    "        Q_table[current_statei][action] += (learning_rate * \n",
    "                                        (reward \n",
    "                                         + discount * np.max(Q_table[new_statei]) \n",
    "                                         - Q_table[current_statei][action]))\n",
    "        current_state = new_state\n",
    "        step +=5 \n",
    "    \n",
    "    scores.append(sum(rewards))\n"
   ]
  },
  {
   "cell_type": "code",
   "execution_count": 25,
   "metadata": {},
   "outputs": [
    {
     "data": {
      "image/png": "[encoded data removed]",
      "text/plain": [
       "<Figure size 432x288 with 1 Axes>"
      ]
     },
     "metadata": {
      "needs_background": "light"
     },
     "output_type": "display_data"
    }
   ],
   "source": [
    "# Plot the policy performance\n",
    "fig = plt.figure()\n",
    "ax = fig.add_subplot(111)\n",
    "x = np.arange(1, len(scores) + 1)\n",
    "y = scores\n",
    "plt.scatter(x, y, marker='x', c=y)\n",
    "fit = np.polyfit(x, y, deg=4)\n",
    "p = np.poly1d(fit) \n",
    "plt.plot(x,p(x),\"r--\") \n",
    "plt.ylabel('Score')\n",
    "plt.xlabel('Episode #')\n",
    "plt.title(' performance ')\n",
    "plt.show()\n",
    "     "
   ]
  },
  {
   "cell_type": "code",
   "execution_count": 26,
   "metadata": {},
   "outputs": [
    {
     "data": {
      "text/plain": [
       "910"
      ]
     },
     "execution_count": 26,
     "metadata": {},
     "output_type": "execute_result"
    }
   ],
   "source": [
    "optimal =[]\n",
    "current_state = reset1()\n",
    "step = 0\n",
    "i=1\n",
    "\n",
    "for j in range(running_time//time_interval):\n",
    "    # Choose A from S\n",
    "    action = np.argmax(Q_table[(current_state[i],current_state[i+9])])\n",
    "    if action==1:\n",
    "        optimal.append(current_state[i])\n",
    "    # Take action\n",
    "    obs = step0(action , list(current_state),i,step)\n",
    "    reward = rewardfun0(action,current_state,i)\n",
    "    current_state = obs\n",
    "    step +=5\n",
    "np.unique(optimal)[0]"
   ]
  },
  {
   "cell_type": "markdown",
   "metadata": {},
   "source": [
    "wheel rim"
   ]
  },
  {
   "cell_type": "code",
   "execution_count": 35,
   "metadata": {},
   "outputs": [],
   "source": [
    "Q_table = np.zeros((100000 ,2) + (2,))\n",
    "scores = []\n",
    "i=2\n",
    "# Looping for each episode\n",
    "for e in range(1000):\n",
    "    # Initializes the state\n",
    "    current_state = reset1()\n",
    "    rewards = []\n",
    "    learning_rate = get_learning_rate(e)\n",
    "    epsilon = 1/(e +1)\n",
    "            \n",
    "    step = 0        \n",
    "    # Looping for each step\n",
    "    for j in range(running_time//time_interval):\n",
    "        # Choose A from S\n",
    "        action = choose_action(epsilon,current_state , i)\n",
    "        # Take action\n",
    "        obs = step0(action , list(current_state),i,step)\n",
    "        reward = rewardfun0(action,current_state,i)\n",
    "        rewards.append(reward)\n",
    "        new_state = obs\n",
    "        \n",
    "        current_statei = (current_state[i],current_state[i+9])\n",
    "        new_statei = (new_state[i],new_state[i+9])\n",
    "        # Update Q(S,A)\n",
    "        Q_table[current_statei][action] += (learning_rate * \n",
    "                                        (reward \n",
    "                                         + discount * np.max(Q_table[new_statei]) \n",
    "                                         - Q_table[current_statei][action]))\n",
    "        current_state = new_state\n",
    "        step +=5 \n",
    "    \n",
    "    scores.append(sum(rewards))\n"
   ]
  },
  {
   "cell_type": "code",
   "execution_count": 37,
   "metadata": {},
   "outputs": [
    {
     "data": {
      "text/plain": [
       "660"
      ]
     },
     "execution_count": 37,
     "metadata": {},
     "output_type": "execute_result"
    }
   ],
   "source": [
    "optimal =[]\n",
    "current_state = reset1()\n",
    "step = 0\n",
    "i=2\n",
    "\n",
    "for j in range(running_time//time_interval):\n",
    "    # Choose A from S\n",
    "    action = np.argmax(Q_table[(current_state[i],current_state[i+9])])\n",
    "    if action==1:\n",
    "        optimal.append(current_state[i])\n",
    "    # Take action\n",
    "    obs = step0(action , list(current_state),i,step)\n",
    "    reward = rewardfun0(action,current_state,i)\n",
    "    current_state = obs\n",
    "    step +=5\n",
    "np.unique(optimal)[0]"
   ]
  },
  {
   "cell_type": "markdown",
   "metadata": {},
   "source": [
    "coupling"
   ]
  },
  {
   "cell_type": "code",
   "execution_count": 15,
   "metadata": {},
   "outputs": [],
   "source": [
    "Q_table = np.zeros((100000 ,2) + (2,))\n",
    "scores = []\n",
    "i=3\n",
    "# Looping for each episode\n",
    "for e in range(1000):\n",
    "    # Initializes the state\n",
    "    current_state = reset1()\n",
    "    rewards = []\n",
    "    learning_rate = get_learning_rate(e)\n",
    "    epsilon = 1/(e +1)\n",
    "            \n",
    "    step = 0        \n",
    "    # Looping for each step\n",
    "    for j in range(running_time//time_interval):\n",
    "        # Choose A from S\n",
    "        action = choose_action(epsilon,current_state , i)\n",
    "        # Take action\n",
    "        obs = step0(action , list(current_state),i,step)\n",
    "        reward = rewardfun0(action,current_state,i)\n",
    "        rewards.append(reward)\n",
    "        new_state = obs\n",
    "        \n",
    "        current_statei = (current_state[i],current_state[i+9])\n",
    "        new_statei = (new_state[i],new_state[i+9])\n",
    "        # Update Q(S,A)\n",
    "        Q_table[current_statei][action] += (learning_rate * \n",
    "                                        (reward \n",
    "                                         + discount * np.max(Q_table[new_statei]) \n",
    "                                         - Q_table[current_statei][action]))\n",
    "        current_state = new_state\n",
    "        step +=5 \n",
    "    \n",
    "    scores.append(sum(rewards))\n"
   ]
  },
  {
   "cell_type": "code",
   "execution_count": 16,
   "metadata": {},
   "outputs": [
    {
     "data": {
      "text/plain": [
       "890"
      ]
     },
     "execution_count": 16,
     "metadata": {},
     "output_type": "execute_result"
    }
   ],
   "source": [
    "optimal =[]\n",
    "current_state = reset1()\n",
    "step = 0\n",
    "i=3\n",
    "\n",
    "for j in range(running_time//time_interval):\n",
    "    # Choose A from S\n",
    "    action = np.argmax(Q_table[(current_state[i],current_state[i+9])])\n",
    "    if action==1:\n",
    "        optimal.append(current_state[i])\n",
    "    # Take action\n",
    "    obs = step0(action , list(current_state),i,step)\n",
    "    reward = rewardfun0(action,current_state,i)\n",
    "    current_state = obs\n",
    "    step +=5\n",
    "np.unique(optimal)[0]"
   ]
  },
  {
   "cell_type": "markdown",
   "metadata": {},
   "source": [
    "Motor"
   ]
  },
  {
   "cell_type": "code",
   "execution_count": 22,
   "metadata": {},
   "outputs": [],
   "source": [
    "Q_table = np.zeros((100000 ,2) + (2,))\n",
    "scores = []\n",
    "i=4\n",
    "# Looping for each episode\n",
    "for e in range(1000):\n",
    "    # Initializes the state\n",
    "    current_state = reset1()\n",
    "    rewards = []\n",
    "    learning_rate = get_learning_rate(e)\n",
    "    epsilon = 1/(e +1)\n",
    "            \n",
    "    step = 0        \n",
    "    # Looping for each step\n",
    "    for j in range(running_time//time_interval):\n",
    "        # Choose A from S\n",
    "        action = choose_action(epsilon,current_state , i)\n",
    "        # Take action\n",
    "        obs = step0(action , list(current_state),i,step)\n",
    "        reward = rewardfun0(action,current_state,i)\n",
    "        rewards.append(reward)\n",
    "        new_state = obs\n",
    "        \n",
    "        current_statei = (current_state[i],current_state[i+9])\n",
    "        new_statei = (new_state[i],new_state[i+9])\n",
    "        # Update Q(S,A)\n",
    "        Q_table[current_statei][action] += (learning_rate * \n",
    "                                        (reward \n",
    "                                         + discount * np.max(Q_table[new_statei]) \n",
    "                                         - Q_table[current_statei][action]))\n",
    "        current_state = new_state\n",
    "        step +=5 \n",
    "    \n",
    "    scores.append(sum(rewards))\n"
   ]
  },
  {
   "cell_type": "code",
   "execution_count": 25,
   "metadata": {},
   "outputs": [
    {
     "data": {
      "text/plain": [
       "335"
      ]
     },
     "execution_count": 25,
     "metadata": {},
     "output_type": "execute_result"
    }
   ],
   "source": [
    "optimal =[]\n",
    "current_state = reset1()\n",
    "step = 0\n",
    "i=4\n",
    "\n",
    "for j in range(running_time//time_interval):\n",
    "    # Choose A from S\n",
    "    action = np.argmax(Q_table[(current_state[i],current_state[i+9])])\n",
    "    if action==1:\n",
    "        optimal.append(current_state[i])\n",
    "    # Take action\n",
    "    obs = step0(action , list(current_state),i,step)\n",
    "    reward = rewardfun0(action,current_state,i)\n",
    "    current_state = obs\n",
    "    step +=5\n",
    "np.unique(optimal)[0]"
   ]
  },
  {
   "cell_type": "markdown",
   "metadata": {},
   "source": [
    "Brake"
   ]
  },
  {
   "cell_type": "code",
   "execution_count": 17,
   "metadata": {},
   "outputs": [],
   "source": [
    "Q_table = np.zeros((100000 ,2) + (2,))\n",
    "scores = []\n",
    "i=5\n",
    "# Looping for each episode\n",
    "for e in range(1000):\n",
    "    # Initializes the state\n",
    "    current_state = reset1()\n",
    "    rewards = []\n",
    "    learning_rate = get_learning_rate(e)\n",
    "    epsilon = 1/(e +1)\n",
    "            \n",
    "    step = 0        \n",
    "    # Looping for each step\n",
    "    for j in range(running_time//time_interval):\n",
    "        # Choose A from S\n",
    "        action = choose_action(epsilon,current_state , i)\n",
    "        # Take action\n",
    "        obs = step0(action , list(current_state),i,step)\n",
    "        reward = rewardfun0(action,current_state,i)\n",
    "        rewards.append(reward)\n",
    "        new_state = obs\n",
    "        \n",
    "        current_statei = (current_state[i],current_state[i+9])\n",
    "        new_statei = (new_state[i],new_state[i+9])\n",
    "        # Update Q(S,A)\n",
    "        Q_table[current_statei][action] += (learning_rate * \n",
    "                                        (reward \n",
    "                                         + discount * np.max(Q_table[new_statei]) \n",
    "                                         - Q_table[current_statei][action]))\n",
    "        current_state = new_state\n",
    "        step +=5 \n",
    "    \n",
    "    scores.append(sum(rewards))\n"
   ]
  },
  {
   "cell_type": "code",
   "execution_count": 18,
   "metadata": {},
   "outputs": [
    {
     "data": {
      "text/plain": [
       "745"
      ]
     },
     "execution_count": 18,
     "metadata": {},
     "output_type": "execute_result"
    }
   ],
   "source": [
    "optimal =[]\n",
    "current_state = reset1()\n",
    "step = 0\n",
    "i=5\n",
    "\n",
    "for j in range(running_time//time_interval):\n",
    "    # Choose A from S\n",
    "    action = np.argmax(Q_table[(current_state[i],current_state[i+9])])\n",
    "    if action==1:\n",
    "        optimal.append(current_state[i])\n",
    "    # Take action\n",
    "    obs = step0(action , list(current_state),i,step)\n",
    "    reward = rewardfun0(action,current_state,i)\n",
    "    current_state = obs\n",
    "    step +=5\n",
    "np.unique(optimal)[0]"
   ]
  },
  {
   "cell_type": "markdown",
   "metadata": {},
   "source": [
    "Steering Wheel"
   ]
  },
  {
   "cell_type": "code",
   "execution_count": 18,
   "metadata": {},
   "outputs": [],
   "source": [
    "Q_table = np.zeros((100000 ,2) + (2,))\n",
    "scores = []\n",
    "i=6\n",
    "# Looping for each episode\n",
    "for e in range(1000):\n",
    "    # Initializes the state\n",
    "    current_state = reset1()\n",
    "    rewards = []\n",
    "    learning_rate = get_learning_rate(e)\n",
    "    epsilon = 1/(e +1)\n",
    "            \n",
    "    step = 0        \n",
    "    # Looping for each step\n",
    "    for j in range(running_time//time_interval):\n",
    "        # Choose A from S\n",
    "        action = choose_action(epsilon,current_state , i)\n",
    "        # Take action\n",
    "        obs = step0(action , list(current_state),i,step)\n",
    "        reward = rewardfun0(action,current_state,i)\n",
    "        rewards.append(reward)\n",
    "        new_state = obs\n",
    "        \n",
    "        current_statei = (current_state[i],current_state[i+9])\n",
    "        new_statei = (new_state[i],new_state[i+9])\n",
    "        # Update Q(S,A)\n",
    "        Q_table[current_statei][action] += (learning_rate * \n",
    "                                        (reward \n",
    "                                         + discount * np.max(Q_table[new_statei]) \n",
    "                                         - Q_table[current_statei][action]))\n",
    "        current_state = new_state\n",
    "        step +=5 \n",
    "    \n",
    "    scores.append(sum(rewards))\n"
   ]
  },
  {
   "cell_type": "code",
   "execution_count": 19,
   "metadata": {},
   "outputs": [
    {
     "data": {
      "text/plain": [
       "710"
      ]
     },
     "execution_count": 19,
     "metadata": {},
     "output_type": "execute_result"
    }
   ],
   "source": [
    "optimal =[]\n",
    "current_state = reset1()\n",
    "step = 0\n",
    "i=6\n",
    "\n",
    "for j in range(running_time//time_interval):\n",
    "    # Choose A from S\n",
    "    action = np.argmax(Q_table[(current_state[i],current_state[i+9])])\n",
    "    if action==1:\n",
    "        optimal.append(current_state[i])\n",
    "    # Take action\n",
    "    obs = step0(action , list(current_state),i,step)\n",
    "    reward = rewardfun0(action,current_state,i)\n",
    "    current_state = obs\n",
    "    step +=5\n",
    "np.unique(optimal)[0]"
   ]
  },
  {
   "cell_type": "markdown",
   "metadata": {},
   "source": [
    "Shifting gears"
   ]
  },
  {
   "cell_type": "code",
   "execution_count": 20,
   "metadata": {},
   "outputs": [],
   "source": [
    "Q_table = np.zeros((100000 ,2) + (2,))\n",
    "scores = []\n",
    "i=7\n",
    "# Looping for each episode\n",
    "for e in range(1000):\n",
    "    # Initializes the state\n",
    "    current_state = reset1()\n",
    "    rewards = []\n",
    "    learning_rate = get_learning_rate(e)\n",
    "    epsilon = 1/(e +1)\n",
    "            \n",
    "    step = 0        \n",
    "    # Looping for each step\n",
    "    for j in range(running_time//time_interval):\n",
    "        # Choose A from S\n",
    "        action = choose_action(epsilon,current_state , i)\n",
    "        # Take action\n",
    "        obs = step0(action , list(current_state),i,step)\n",
    "        reward = rewardfun0(action,current_state,i)\n",
    "        rewards.append(reward)\n",
    "        new_state = obs\n",
    "        \n",
    "        current_statei = (current_state[i],current_state[i+9])\n",
    "        new_statei = (new_state[i],new_state[i+9])\n",
    "        # Update Q(S,A)\n",
    "        Q_table[current_statei][action] += (learning_rate * \n",
    "                                        (reward \n",
    "                                         + discount * np.max(Q_table[new_statei]) \n",
    "                                         - Q_table[current_statei][action]))\n",
    "        current_state = new_state\n",
    "        step +=5 \n",
    "    \n",
    "    scores.append(sum(rewards))\n"
   ]
  },
  {
   "cell_type": "code",
   "execution_count": 21,
   "metadata": {},
   "outputs": [
    {
     "data": {
      "text/plain": [
       "685"
      ]
     },
     "execution_count": 21,
     "metadata": {},
     "output_type": "execute_result"
    }
   ],
   "source": [
    "optimal =[]\n",
    "current_state = reset1()\n",
    "step = 0\n",
    "i=7\n",
    "\n",
    "for j in range(running_time//time_interval):\n",
    "    # Choose A from S\n",
    "    action = np.argmax(Q_table[(current_state[i],current_state[i+9])])\n",
    "    if action==1:\n",
    "        optimal.append(current_state[i])\n",
    "    # Take action\n",
    "    obs = step0(action , list(current_state),i,step)\n",
    "    reward = rewardfun0(action,current_state,i)\n",
    "    current_state = obs\n",
    "    step +=5\n",
    "np.unique(optimal)[0]"
   ]
  },
  {
   "cell_type": "code",
   "execution_count": null,
   "metadata": {},
   "outputs": [],
   "source": []
  }
 ],
 "metadata": {
  "kernelspec": {
   "display_name": "Python 3",
   "language": "python",
   "name": "python3"
  },
  "language_info": {
   "codemirror_mode": {
    "name": "ipython",
    "version": 3
   },
   "file_extension": ".py",
   "mimetype": "text/x-python",
   "name": "python",
   "nbconvert_exporter": "python",
   "pygments_lexer": "ipython3",
   "version": "3.7.3"
  }
 },
 "nbformat": 4,
 "nbformat_minor": 2
}
